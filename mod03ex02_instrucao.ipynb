{
  "cells": [
    {
      "cell_type": "markdown",
      "metadata": {
        "id": "view-in-github",
        "colab_type": "text"
      },
      "source": [
        "<a href=\"https://colab.research.google.com/github/Adelson021/Proj01/blob/main/mod03ex02_instrucao.ipynb\" target=\"_parent\"><img src=\"https://colab.research.google.com/assets/colab-badge.svg\" alt=\"Open In Colab\"/></a>"
      ]
    },
    {
      "cell_type": "code",
      "execution_count": null,
      "metadata": {
        "id": "fFhFteHV695k"
      },
      "outputs": [],
      "source": [
        "import numpy as np"
      ]
    },
    {
      "cell_type": "markdown",
      "metadata": {
        "id": "YLWEzg3N695m"
      },
      "source": [
        "### 1) Alturas  \n",
        "i. No trecho de código abaixo, crie um ndarray chamado ```altura_em_centimetros``` transformando a lista ```lista_de_alturas``` em um ndarray do numpy com a função ```np.array()```  \n",
        "ii. Crie um outro objeto ```altura_em_metros```, com os valores de ```altura_em_centimetros``` convertidos para metros."
      ]
    },
    {
      "cell_type": "code",
      "execution_count": null,
      "metadata": {
        "id": "tx6DbJk7695o",
        "outputId": "8952e11d-d824-4502-8564-74c0cabdb667"
      },
      "outputs": [
        {
          "data": {
            "text/plain": [
              "[170, 175, 180, 185]"
            ]
          },
          "execution_count": 2,
          "metadata": {},
          "output_type": "execute_result"
        }
      ],
      "source": [
        "lista_de_centimetros = list(range(170, 190, 5))\n",
        "lista_de_centimetros\n"
      ]
    },
    {
      "cell_type": "code",
      "execution_count": null,
      "metadata": {
        "id": "-tXC4lyT695o"
      },
      "outputs": [],
      "source": [
        "altura_em_centimetros = np.array(lista_de_centimetros)"
      ]
    },
    {
      "cell_type": "code",
      "execution_count": null,
      "metadata": {
        "id": "zFDQt9_K695p"
      },
      "outputs": [],
      "source": [
        "altura_em_metros = altura_em_centimetros / 100"
      ]
    },
    {
      "cell_type": "code",
      "execution_count": null,
      "metadata": {
        "id": "cFYJipCv771-",
        "outputId": "a6a314b5-abf0-4e4e-f44d-4812b73ebf07"
      },
      "outputs": [
        {
          "name": "stdout",
          "output_type": "stream",
          "text": [
            "Altura em centímetros: [170 175 180 185]\n",
            "Altura em metros: [1.7  1.75 1.8  1.85]\n"
          ]
        }
      ],
      "source": [
        "print(\"Altura em centímetros:\", altura_em_centimetros)\n",
        "print(\"Altura em metros:\", altura_em_metros)"
      ]
    },
    {
      "cell_type": "markdown",
      "metadata": {
        "id": "hlsDzubv695p"
      },
      "source": [
        "### 2) IMC  \n",
        "i. Considere que pesos em Kg dessas pessoas, na mesma ortem, estão na lista pesos ```lista_pesos = [70, 75, 80, 85]```. Crie um **ndarray** chamado ```pesos``` com a função ```np.array()``` que contenha esses valores.  \n",
        "ii. Utilizando o objeto que contém as alturas em metros e esse objeto que contém os respectivos pesos em quilos, calcule o IMC desses indivíduos utilizando a aritmética de arrays e guarde os resultados em um objeto chamado ```imc```."
      ]
    },
    {
      "cell_type": "code",
      "execution_count": null,
      "metadata": {
        "id": "YL87C0It695p"
      },
      "outputs": [],
      "source": [
        "lista_pesos = [70, 75, 80, 85]\n",
        "lista_pesos\n",
        "# seu código aqui\n",
        "pesos = np.array(lista_pesos)\n",
        "# Alturas em metros já calculadas anteriormente\n",
        "altura_em_metros = np.array([1.7, 1.75, 1.8, 1.85])"
      ]
    },
    {
      "cell_type": "code",
      "execution_count": null,
      "metadata": {
        "id": "WgZtY2Ox695q",
        "outputId": "1353af80-fbde-4a83-a82f-2e1c13d6a440"
      },
      "outputs": [
        {
          "data": {
            "text/plain": [
              "array([24.22145329, 24.48979592, 24.69135802, 24.83564646])"
            ]
          },
          "execution_count": 18,
          "metadata": {},
          "output_type": "execute_result"
        }
      ],
      "source": [
        "# calcule o IMC dessas pessoas\n",
        "imc = pesos / (altura_em_metros ** 2)\n",
        "imc_arredondado = np.round(imc, 2)\n",
        "imc"
      ]
    },
    {
      "cell_type": "code",
      "execution_count": null,
      "metadata": {
        "id": "yIIf0LFQ771_",
        "outputId": "92618fbf-70be-466c-96f5-4c2ad047fe3b"
      },
      "outputs": [
        {
          "name": "stdout",
          "output_type": "stream",
          "text": [
            "Pesos em kg: [70 75 80 85]\n",
            "Alturas em metros: [1.7  1.75 1.8  1.85]\n",
            "IMC: [24.22145329 24.48979592 24.69135802 24.83564646]\n"
          ]
        }
      ],
      "source": [
        "# Imprimir os resultados\n",
        "print(\"Pesos em kg:\", pesos)\n",
        "print(\"Alturas em metros:\", altura_em_metros)\n",
        "print(\"IMC:\", imc)"
      ]
    },
    {
      "cell_type": "markdown",
      "metadata": {
        "id": "k1JIBxZb695r"
      },
      "source": [
        "### 3) Endividamento\n",
        "\n",
        "Cálculos de novas variáveis como endividamento total e comprometimento de renda são essenciais para a construção de modelos financeiros em ciência de dados. Áreas não financeiras terão cálculos semelhantes também. Vamos praticar:\n",
        "\n",
        "Considere que o seguinte ndarray contém os dados de 4 pessoas, total a ser pago a empréstimos mensalmente e renda familiar:\n",
        "\n",
        "| custo fixo | dívida financeira | renda familiar |\n",
        "|:----:|:----:|:---|\n",
        "| 3000  | 1000 | 6000 |\n",
        "| 2500  | 2500 | 5500 |\n",
        "| 1000  | 3000 | 7000 |\n",
        "| 10000 | 5000 | 16000 |\n",
        "\n",
        "i. Transforme a lista de listas ```dados_financeiros``` no ndarray ```nd_financeiros```.\n",
        "> ``` dados_financeiros[[3000, 2500, 1000, 10000],[1000, 2500, 3000, 5000],[6000, 5500, 7000, 16000]] ```\n",
        "\n",
        "ii. Utilize o método ```.transpose ``` e certifique-se de que esse ndarray tenha uma linha por indivíduo e uma coluna por informação. Utilizando a indexação do numpy, imprima no output a segunda linha do array, depois a segunda coluna.\n",
        "\n",
        "iii. Pratique aritmética com nearrays e calcule o endividamento total como:\n",
        "$$endividamento\\hspace{.2cm}total = \\frac{custo \\hspace{.2cm}fixo + dívida\\hspace{.2cm}financeira}{renda\\hspace{.2cm}familiar}$$\n",
        "Guarde os resultados em uma variável chamada ```endividamento_total``` e verifique os resultados imprimindo o conteúdo dessa variável no output.\n",
        "\n",
        "iv. Considere que há um erro de digitação que precisa ser corrigido: 3o indivíduo na verdade não possui renda familiar de R\\\\$7.000,00, mas sim R\\\\$ 10.000,00. Corrija esse valor e refaça os cálculos."
      ]
    },
    {
      "cell_type": "code",
      "execution_count": null,
      "metadata": {
        "id": "k17jw6kT695r",
        "outputId": "58cbda61-737d-48d7-fdbe-60790be25b38"
      },
      "outputs": [
        {
          "data": {
            "text/plain": [
              "array([[ 3000,  2500,  1000, 10000],\n",
              "       [ 1000,  2500,  3000,  5000],\n",
              "       [ 6000,  5500,  7000, 16000]])"
            ]
          },
          "execution_count": 20,
          "metadata": {},
          "output_type": "execute_result"
        }
      ],
      "source": [
        "# lista dados_financeiros\n",
        "dados_financeiros = [[3000, 2500, 1000, 10000],[1000, 2500, 3000, 5000],[6000, 5500, 7000, 16000]]\n",
        "dados_financeiros\n",
        "#i) transforme essa lista em um ndarray\n",
        "nd_financeiros = np.array(dados_financeiros)\n",
        "nd_financeiros"
      ]
    },
    {
      "cell_type": "code",
      "execution_count": null,
      "metadata": {
        "id": "ecRsPjml695r",
        "outputId": "d63d5d84-a5ba-47ad-f0d5-39ccd70759ce"
      },
      "outputs": [
        {
          "data": {
            "text/plain": [
              "array([[ 3000,  1000,  6000],\n",
              "       [ 2500,  2500,  5500],\n",
              "       [ 1000,  3000,  7000],\n",
              "       [10000,  5000, 16000]])"
            ]
          },
          "execution_count": 21,
          "metadata": {},
          "output_type": "execute_result"
        }
      ],
      "source": [
        "# ii)\n",
        "nd_financeiros = np.array(dados_financeiros).transpose()\n",
        "nd_financeiros"
      ]
    },
    {
      "cell_type": "code",
      "execution_count": null,
      "metadata": {
        "id": "RgMG-t9-695s",
        "outputId": "fa44a254-fcea-4173-d15c-148083f7fc8b"
      },
      "outputs": [
        {
          "name": "stdout",
          "output_type": "stream",
          "text": [
            "\n",
            "Endividamento total: [ 4000  5000  4000 15000]\n"
          ]
        }
      ],
      "source": [
        "# iii) Calcule o endividamento total\n",
        "custo_fixo = nd_financeiros[:, 0]\n",
        "divida_financeira = nd_financeiros[:, 1]\n",
        "renda_familiar = nd_financeiros[:, 2]\n",
        "endividamento_total = custo_fixo + divida_financeira\n",
        "print(\"\\nEndividamento total:\", endividamento_total)"
      ]
    },
    {
      "cell_type": "code",
      "execution_count": null,
      "metadata": {
        "id": "FxaSHRgy695t",
        "outputId": "a2661a98-5bc7-4ec7-c6dc-bf0c1b61b71c"
      },
      "outputs": [
        {
          "name": "stdout",
          "output_type": "stream",
          "text": [
            "nd_financeiros:\n",
            " [[ 3000  1000  6000]\n",
            " [ 2500  2500  5500]\n",
            " [ 1000  3000 10000]\n",
            " [10000  5000 16000]]\n"
          ]
        }
      ],
      "source": [
        "# iv) corrigindo um valor específico\n",
        "# Transformar a lista de listas dados_financeiros no ndarray nd_financeiros\n",
        "dados_financeiros = [\n",
        "    [3000, 2500, 1000, 10000],\n",
        "    [1000, 2500, 3000, 5000],\n",
        "    [6000, 5500, 10000, 16000]  # Corrigido o valor da renda familiar do terceiro indivíduo\n",
        "]\n",
        "# Transpor a matriz para que cada linha corresponda a um indivíduo e cada coluna a uma informação\n",
        "nd_financeiros = np.array(dados_financeiros).transpose()\n",
        "\n",
        "# Imprimir o ndarray transposto\n",
        "print(\"nd_financeiros:\\n\", nd_financeiros)"
      ]
    },
    {
      "cell_type": "code",
      "execution_count": null,
      "metadata": {
        "id": "OYxfd00O695t",
        "outputId": "35f4f5ca-82ef-4797-8436-382d1688ae0b"
      },
      "outputs": [
        {
          "name": "stdout",
          "output_type": "stream",
          "text": [
            "\n",
            "Endividamento total corrigido: [ 4000  5000  4000 15000]\n"
          ]
        }
      ],
      "source": [
        "# Calcular o endividamento total como a soma do custo fixo e da dívida financeira\n",
        "custo_fixo = nd_financeiros[:, 0]\n",
        "divida_financeira = nd_financeiros[:, 1]\n",
        "renda_familiar = nd_financeiros[:, 2]\n",
        "\n",
        "endividamento_total = custo_fixo + divida_financeira\n",
        "\n",
        "# Imprimir o endividamento total\n",
        "print(\"\\nEndividamento total corrigido:\", endividamento_total)"
      ]
    },
    {
      "cell_type": "markdown",
      "metadata": {
        "id": "RghMgSOX695t"
      },
      "source": [
        "### 4) É muito comum precisarmos identificar valores especiais e darmos tratamento a eles quer seja alterando-os quer seja descartando-os.\n",
        "\n",
        "O trecho de código abaixo gera um ndarray com números pseudo aleatórios. Considere que para efeitos do estudo que virá, devemos desconsiderar valores iguais a zero. Sendo assim:\n",
        "\n",
        "i) crie um objeto ```bool_zero``` que traga uma sequencia de booleanos do mesmo tamanho que o objeto poi, e que vale ```True``` quando o valor de ```poi``` é zero, e ```False``` caso contrário.\n",
        "\n",
        "ii) Conte quantos valores zero existem. Lembre-se de que no final das contas, ```True``` vale 1 para o Python, e ```False``` vale zero, então uma boa dica seria usar a função ```sum()```.\n",
        "\n",
        "iii) Utilize a indexação booleana que você aprendeu para criar uma variável ```poi_nao_zero``` que aponta para os elementos de ```poi``` diferentes de zero. Dica: você vai pode inverter os elementos do objeto que criou em *ii)* ou escrever a comparação adequada."
      ]
    },
    {
      "cell_type": "code",
      "execution_count": null,
      "metadata": {
        "id": "Y6JUhNiT695t",
        "outputId": "06ceb3b7-5eb0-45d0-f3b3-ea6ff6f0df2a"
      },
      "outputs": [
        {
          "data": {
            "text/plain": [
              "array([3, 3, 6, 2, 4, 5, 4, 4, 2, 0, 3, 3, 2, 8, 2, 3, 3, 3, 0, 4, 4, 2,\n",
              "       6, 6, 0, 3, 4, 3, 5, 2, 1, 3, 2, 2, 3, 2, 4, 4, 5, 7, 3, 5, 3, 3,\n",
              "       2, 2, 3, 6, 2, 2, 4, 3, 5, 2, 5, 3, 0, 2, 1, 1, 4, 4, 4, 6, 2, 4,\n",
              "       1, 2, 5, 5, 3, 4, 1, 4, 1, 1, 7, 1, 2, 1, 3, 7, 0, 4, 4, 0, 6, 1,\n",
              "       3, 4, 2, 5, 4, 5, 5, 3, 4, 6, 8, 2])"
            ]
          },
          "execution_count": 122,
          "metadata": {},
          "output_type": "execute_result"
        }
      ],
      "source": [
        "# objeto poi - obs: o comando np.random.seed(1234) garante que o mesmo resultado será gerado sempre\n",
        "np.random.seed(1234)\n",
        "poi = np.random.poisson(3, 100)\n",
        "poi"
      ]
    },
    {
      "cell_type": "code",
      "execution_count": null,
      "metadata": {
        "id": "dWElD2MJ695u"
      },
      "outputs": [],
      "source": [
        "# i) crie o objeto bool_zero através do operador ==\n",
        "np.random.seed(1234)\n",
        "poi = np.random.poisson(3, 100)\n",
        "poi\n",
        "bool_zero = poi == 0"
      ]
    },
    {
      "cell_type": "code",
      "execution_count": null,
      "metadata": {
        "id": "hr-knXzs695u"
      },
      "outputs": [],
      "source": [
        "# ii) Conte a quantidade de zeros (ou some os elementos de bool_zero)\n",
        "quantidade_zeros = np.sum(bool_zero)"
      ]
    },
    {
      "cell_type": "code",
      "execution_count": null,
      "metadata": {
        "id": "5s3DqCup695u"
      },
      "outputs": [],
      "source": [
        "# iii) utilize a indexação booleana para criar uma seleção de não-zeros\n",
        "# dica: inverta o objeto bool_zero\n",
        "poi_nao_zero = poi[~bool_zero]"
      ]
    },
    {
      "cell_type": "code",
      "execution_count": null,
      "metadata": {
        "id": "MoRbPxjU772A",
        "outputId": "29d2da10-c6a7-431c-d3a0-32c83a3e28a6"
      },
      "outputs": [
        {
          "name": "stdout",
          "output_type": "stream",
          "text": [
            "Objeto poi:\n",
            "[3 3 6 2 4 5 4 4 2 0 3 3 2 8 2 3 3 3 0 4 4 2 6 6 0 3 4 3 5 2 1 3 2 2 3 2 4\n",
            " 4 5 7 3 5 3 3 2 2 3 6 2 2 4 3 5 2 5 3 0 2 1 1 4 4 4 6 2 4 1 2 5 5 3 4 1 4\n",
            " 1 1 7 1 2 1 3 7 0 4 4 0 6 1 3 4 2 5 4 5 5 3 4 6 8 2]\n",
            "\n",
            "Objeto bool_zero:\n",
            "[False False False False False False False False False  True False False\n",
            " False False False False False False  True False False False False False\n",
            "  True False False False False False False False False False False False\n",
            " False False False False False False False False False False False False\n",
            " False False False False False False False False  True False False False\n",
            " False False False False False False False False False False False False\n",
            " False False False False False False False False False False  True False\n",
            " False  True False False False False False False False False False False\n",
            " False False False False]\n",
            "\n",
            "Quantidade de valores zero: 6\n",
            "\n",
            "Objeto poi_nao_zero:\n",
            "[3 3 6 2 4 5 4 4 2 3 3 2 8 2 3 3 3 4 4 2 6 6 3 4 3 5 2 1 3 2 2 3 2 4 4 5 7\n",
            " 3 5 3 3 2 2 3 6 2 2 4 3 5 2 5 3 2 1 1 4 4 4 6 2 4 1 2 5 5 3 4 1 4 1 1 7 1\n",
            " 2 1 3 7 4 4 6 1 3 4 2 5 4 5 5 3 4 6 8 2]\n"
          ]
        }
      ],
      "source": [
        "print(\"\\nObjeto bool_zero:\")\n",
        "print(bool_zero)\n",
        "print(\"\\nQuantidade de valores zero:\", quantidade_zeros)\n",
        "print(\"\\nObjeto poi_nao_zero:\")\n",
        "print(poi_nao_zero)"
      ]
    },
    {
      "cell_type": "code",
      "execution_count": null,
      "metadata": {
        "id": "FHSFFa5J772B"
      },
      "outputs": [],
      "source": []
    }
  ],
  "metadata": {
    "colab": {
      "provenance": [],
      "include_colab_link": true
    },
    "kernelspec": {
      "display_name": "Python 3 (ipykernel)",
      "language": "python",
      "name": "python3"
    },
    "language_info": {
      "codemirror_mode": {
        "name": "ipython",
        "version": 3
      },
      "file_extension": ".py",
      "mimetype": "text/x-python",
      "name": "python",
      "nbconvert_exporter": "python",
      "pygments_lexer": "ipython3",
      "version": "3.11.7"
    }
  },
  "nbformat": 4,
  "nbformat_minor": 0
}