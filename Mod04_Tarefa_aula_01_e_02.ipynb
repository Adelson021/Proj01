{
  "cells": [
    {
      "cell_type": "markdown",
      "metadata": {
        "id": "view-in-github",
        "colab_type": "text"
      },
      "source": [
        "<a href=\"https://colab.research.google.com/github/Adelson021/Proj01/blob/main/Mod04_Tarefa_aula_01_e_02.ipynb\" target=\"_parent\"><img src=\"https://colab.research.google.com/assets/colab-badge.svg\" alt=\"Open In Colab\"/></a>"
      ]
    },
    {
      "cell_type": "markdown",
      "metadata": {
        "id": "HIB-M_hxNLCx"
      },
      "source": [
        "# Tarefa 01\n",
        "\n",
        "- Leia os enunciados com atenção\n",
        "- Saiba que pode haver mais de uma resposta correta\n",
        "- Insira novas células de código sempre que achar necessário\n",
        "- Em caso de dúvidas, procure os tutores\n",
        "- Divirta-se :)\n",
        "\n",
        "#### 1)  crie uma série do pandas a partir de uma lista com os dados abaixo:\n",
        "\n",
        "Em um estudo sobre alteração na tempreatura global, A NASA disponibiliza dados de diferenças de de temperatura média da superfície terrestre relativos às médias de temperatura entre 1951 e 1980. Os dados originais podem ser vistos no site da NASA/GISS, e estão dispostos a cada década na tabela abaixo.\n",
        "\n",
        "|ano|anomalia termica|\n",
        "|:-:|:----:|\n",
        "| 1900 | -0.08 |\n",
        "| 1920 | -0.27 |\n",
        "| 1940 | 0.12 |\n",
        "| 1960 | -0.03 |\n",
        "| 1980 | 0.26 |\n",
        "| 2000 | 0.40 |\n",
        "| 2020 | 1.02 |\n",
        "\n",
        "Crie uma séries do Pandas a partir de uma lista com esses dados."
      ]
    },
    {
      "cell_type": "code",
      "execution_count": 2,
      "metadata": {
        "colab": {
          "base_uri": "https://localhost:8080/"
        },
        "id": "W5yK-lu5NLCz",
        "outputId": "6ee24416-5826-4462-ec6e-c3a4347e836f"
      },
      "outputs": [
        {
          "output_type": "stream",
          "name": "stdout",
          "text": [
            "1900   -0.08\n",
            "1920   -0.27\n",
            "1940    0.12\n",
            "1960   -0.03\n",
            "1980    0.26\n",
            "2000    0.40\n",
            "2020    1.02\n",
            "Name: Anomalia Térmica, dtype: float64\n"
          ]
        }
      ],
      "source": [
        "import pandas as pd\n",
        "import numpy as np\n",
        "\n",
        "anos = [1900, 1920, 1940, 1960, 1980, 2000, 2020]\n",
        "anomalias_termicas = [-0.08, -0.27, 0.12, -0.03, 0.26, 0.40, 1.02]\n",
        "\n",
        "# Criando a série do Pandas\n",
        "serie_anomalias = pd.Series(data=anomalias_termicas, index=anos, name='Anomalia Térmica')\n",
        "\n",
        "print(serie_anomalias)"
      ]
    },
    {
      "cell_type": "markdown",
      "metadata": {
        "id": "Ard8a382NLC1"
      },
      "source": [
        "#### 2) Coloque os anos nos índices conforme a tabela."
      ]
    },
    {
      "cell_type": "code",
      "execution_count": 3,
      "metadata": {
        "colab": {
          "base_uri": "https://localhost:8080/"
        },
        "id": "rKm6rueANLC1",
        "outputId": "5ec5cbbb-f91c-46e9-cd53-6b9f2df0bfa5"
      },
      "outputs": [
        {
          "output_type": "stream",
          "name": "stdout",
          "text": [
            "1900   -0.08\n",
            "1920   -0.27\n",
            "1940    0.12\n",
            "1960   -0.03\n",
            "1980    0.26\n",
            "2000    0.40\n",
            "2020    1.02\n",
            "Name: Anomalia Térmica, dtype: float64\n"
          ]
        }
      ],
      "source": [
        "\n",
        "# seu código aqui\n",
        "serie_anomalias = pd.Series(data=anomalias_termicas, index=anos, name='Anomalia Térmica')\n",
        "\n",
        "# Exibindo a série\n",
        "print(serie_anomalias)"
      ]
    },
    {
      "cell_type": "markdown",
      "metadata": {
        "id": "BimJ9T90NLC1"
      },
      "source": [
        "#### 3) A partir do dicionário abaixo, crie uma séries do Pandas:"
      ]
    },
    {
      "cell_type": "code",
      "execution_count": 4,
      "metadata": {
        "colab": {
          "base_uri": "https://localhost:8080/"
        },
        "id": "dAH7cpdENLC2",
        "outputId": "939146f9-1d01-415a-fb3a-f9f2482e4cb8"
      },
      "outputs": [
        {
          "output_type": "stream",
          "name": "stdout",
          "text": [
            "1900   -0.08\n",
            "1920   -0.27\n",
            "1940    0.12\n",
            "1960   -0.03\n",
            "1980    0.26\n",
            "2000    0.40\n",
            "2020    1.02\n",
            "Name: Anomalia Térmica, dtype: float64\n"
          ]
        }
      ],
      "source": [
        "dic_temperaturas = {1900: -.08, 1920: -.27, 1940: .12, 1960: -.03, 1980: .26, 2000: .40, 2020: 1.02}\n",
        "\n",
        "# seu código aqui\n",
        "serie_anomalias = pd.Series(dic_temperaturas, name='Anomalia Térmica')\n",
        "\n",
        "# Exibindo a série\n",
        "print(serie_anomalias)"
      ]
    },
    {
      "cell_type": "markdown",
      "metadata": {
        "id": "vUVUZuNkNLC2"
      },
      "source": [
        "#### 4) Transforme o ndarray abaixo em um dataframe.\n",
        "O numpy é capaz de gerar arrays n-dimensionais com números pseudo-aleatórios de acordo com uma variedade de distribuições, como no exemplo abaixo. Transforme esse nd-array em um DataFrame."
      ]
    },
    {
      "cell_type": "code",
      "execution_count": 5,
      "metadata": {
        "colab": {
          "base_uri": "https://localhost:8080/"
        },
        "id": "l4JXbgsMNLC2",
        "outputId": "603bb12c-c7a6-4ab9-ae72-c6926a15df71"
      },
      "outputs": [
        {
          "output_type": "stream",
          "name": "stdout",
          "text": [
            "       Coluna1     Coluna2     Coluna3\n",
            "0   103.406536   94.404912   89.604364\n",
            "1    88.825027   83.172713   79.208284\n",
            "2   110.744544   83.637583  101.058996\n",
            "3    93.737670   96.366879  103.165178\n",
            "4   107.613639  101.393854   94.016897\n",
            "5   108.977293   97.882681  121.804447\n",
            "6    95.591495  120.246136  103.710070\n",
            "7   112.699101   92.260212  110.967933\n",
            "8   104.292465   94.459143   82.699171\n",
            "9   100.750509  100.202766   94.470907\n",
            "10   96.423313  111.234591   82.283114\n",
            "11  109.608980  107.970651  108.629238\n",
            "12  107.710833   97.658801  104.730305\n",
            "13   86.283555   86.139695   98.746502\n",
            "14  104.124712  104.043877  111.022688\n",
            "15   88.532202   78.979565  105.369717\n",
            "16  104.251648  112.574799   96.959544\n",
            "17  101.359412  112.864614   90.510173\n",
            "18  107.264054   89.121007  122.004318\n",
            "19   93.525305  100.198471  115.034587\n"
          ]
        }
      ],
      "source": [
        "arr = np.random.normal(100, 10, (20,3))\n",
        "\n",
        "# seu código aqui\n",
        "# Gerando um array n-dimensional com números pseudo-aleatórios\n",
        "arr = np.random.normal(100, 10, (20, 3))\n",
        "\n",
        "# Transformando o ndarray em um DataFrame do Pandas\n",
        "df = pd.DataFrame(arr, columns=['Coluna1', 'Coluna2', 'Coluna3'])\n",
        "\n",
        "# Exibindo o DataFrame\n",
        "print(df)"
      ]
    },
    {
      "cell_type": "markdown",
      "metadata": {
        "id": "wIPAkwEZNLC2"
      },
      "source": [
        "#### 5) Nomeie os índices das linhas com inteiros de 1 a 20, e as colunas com os nomes \"x1\", \"x2\", e \"x3\" respectivamente."
      ]
    },
    {
      "cell_type": "code",
      "execution_count": 6,
      "metadata": {
        "colab": {
          "base_uri": "https://localhost:8080/"
        },
        "id": "ceLnCH0bNLC2",
        "outputId": "4f4dd1ad-2e61-4016-bed5-2f6d33812996"
      },
      "outputs": [
        {
          "output_type": "stream",
          "name": "stdout",
          "text": [
            "            x1          x2          x3\n",
            "1   103.406536   94.404912   89.604364\n",
            "2    88.825027   83.172713   79.208284\n",
            "3   110.744544   83.637583  101.058996\n",
            "4    93.737670   96.366879  103.165178\n",
            "5   107.613639  101.393854   94.016897\n",
            "6   108.977293   97.882681  121.804447\n",
            "7    95.591495  120.246136  103.710070\n",
            "8   112.699101   92.260212  110.967933\n",
            "9   104.292465   94.459143   82.699171\n",
            "10  100.750509  100.202766   94.470907\n",
            "11   96.423313  111.234591   82.283114\n",
            "12  109.608980  107.970651  108.629238\n",
            "13  107.710833   97.658801  104.730305\n",
            "14   86.283555   86.139695   98.746502\n",
            "15  104.124712  104.043877  111.022688\n",
            "16   88.532202   78.979565  105.369717\n",
            "17  104.251648  112.574799   96.959544\n",
            "18  101.359412  112.864614   90.510173\n",
            "19  107.264054   89.121007  122.004318\n",
            "20   93.525305  100.198471  115.034587\n"
          ]
        }
      ],
      "source": [
        "#seu código aqui\n",
        "# Transformando o ndarray em um DataFrame do Pandas com novos nomes de colunas\n",
        "df = pd.DataFrame(arr, columns=['x1', 'x2', 'x3'])\n",
        "\n",
        "# Ajustando os índices das linhas para inteiros de 1 a 20\n",
        "df.index = range(1, 21)\n",
        "\n",
        "# Exibindo o DataFrame\n",
        "print(df)\n"
      ]
    },
    {
      "cell_type": "markdown",
      "metadata": {
        "id": "QAzg-V7bNLC2"
      },
      "source": [
        "#### 6) No DataFrame do exercício 5, crie uma nova coluna como sendo a média das três colunas, e dê a ela o nome de \"media\" (não recomendo colocar acentos em nomes de variáveis)."
      ]
    },
    {
      "cell_type": "code",
      "execution_count": 7,
      "metadata": {
        "colab": {
          "base_uri": "https://localhost:8080/"
        },
        "id": "aGVQJYM0NLC3",
        "outputId": "95ba8b81-4ca3-4ec8-aad9-698777d3cb3b"
      },
      "outputs": [
        {
          "output_type": "stream",
          "name": "stdout",
          "text": [
            "            x1          x2          x3       media\n",
            "1   103.406536   94.404912   89.604364   95.805271\n",
            "2    88.825027   83.172713   79.208284   83.735341\n",
            "3   110.744544   83.637583  101.058996   98.480374\n",
            "4    93.737670   96.366879  103.165178   97.756576\n",
            "5   107.613639  101.393854   94.016897  101.008130\n",
            "6   108.977293   97.882681  121.804447  109.554807\n",
            "7    95.591495  120.246136  103.710070  106.515901\n",
            "8   112.699101   92.260212  110.967933  105.309082\n",
            "9   104.292465   94.459143   82.699171   93.816926\n",
            "10  100.750509  100.202766   94.470907   98.474727\n",
            "11   96.423313  111.234591   82.283114   96.647006\n",
            "12  109.608980  107.970651  108.629238  108.736290\n",
            "13  107.710833   97.658801  104.730305  103.366646\n",
            "14   86.283555   86.139695   98.746502   90.389917\n",
            "15  104.124712  104.043877  111.022688  106.397092\n",
            "16   88.532202   78.979565  105.369717   90.960495\n",
            "17  104.251648  112.574799   96.959544  104.595330\n",
            "18  101.359412  112.864614   90.510173  101.578066\n",
            "19  107.264054   89.121007  122.004318  106.129793\n",
            "20   93.525305  100.198471  115.034587  102.919454\n"
          ]
        }
      ],
      "source": [
        "# seu código aqui\n",
        "df['media'] = df[['x1', 'x2', 'x3']].mean(axis=1)\n",
        "\n",
        "# Exibindo o DataFrame\n",
        "print(df)"
      ]
    },
    {
      "cell_type": "markdown",
      "metadata": {
        "id": "iTmDTB2gNLC3"
      },
      "source": [
        "#### 7) No DataFrame do exercício 6, crie uma nova coluna chamada \"log_med\", contendo o logaritmo natural da média calculada no exercício 6 <br>"
      ]
    },
    {
      "cell_type": "code",
      "execution_count": 8,
      "metadata": {
        "colab": {
          "base_uri": "https://localhost:8080/"
        },
        "id": "K8JVpr-NNLC3",
        "outputId": "768d94b4-73bd-4cce-c4a5-5a511683eb42"
      },
      "outputs": [
        {
          "output_type": "stream",
          "name": "stdout",
          "text": [
            "            x1          x2          x3       media   log_med\n",
            "1   103.406536   94.404912   89.604364   95.805271  4.562318\n",
            "2    88.825027   83.172713   79.208284   83.735341  4.427661\n",
            "3   110.744544   83.637583  101.058996   98.480374  4.589857\n",
            "4    93.737670   96.366879  103.165178   97.756576  4.582480\n",
            "5   107.613639  101.393854   94.016897  101.008130  4.615201\n",
            "6   108.977293   97.882681  121.804447  109.554807  4.696425\n",
            "7    95.591495  120.246136  103.710070  106.515901  4.668294\n",
            "8   112.699101   92.260212  110.967933  105.309082  4.656900\n",
            "9   104.292465   94.459143   82.699171   93.816926  4.541345\n",
            "10  100.750509  100.202766   94.470907   98.474727  4.589800\n",
            "11   96.423313  111.234591   82.283114   96.647006  4.571065\n",
            "12  109.608980  107.970651  108.629238  108.736290  4.688926\n",
            "13  107.710833   97.658801  104.730305  103.366646  4.638282\n",
            "14   86.283555   86.139695   98.746502   90.389917  4.504133\n",
            "15  104.124712  104.043877  111.022688  106.397092  4.667178\n",
            "16   88.532202   78.979565  105.369717   90.960495  4.510425\n",
            "17  104.251648  112.574799   96.959544  104.595330  4.650099\n",
            "18  101.359412  112.864614   90.510173  101.578066  4.620828\n",
            "19  107.264054   89.121007  122.004318  106.129793  4.664663\n",
            "20   93.525305  100.198471  115.034587  102.919454  4.633947\n"
          ]
        }
      ],
      "source": [
        "# seu código aqui\n",
        "df['log_med'] = np.log(df['media'])\n",
        "\n",
        "# Exibindo o DataFrame\n",
        "print(df)"
      ]
    }
  ],
  "metadata": {
    "kernelspec": {
      "display_name": "Python 3",
      "language": "python",
      "name": "python3"
    },
    "language_info": {
      "codemirror_mode": {
        "name": "ipython",
        "version": 3
      },
      "file_extension": ".py",
      "mimetype": "text/x-python",
      "name": "python",
      "nbconvert_exporter": "python",
      "pygments_lexer": "ipython3",
      "version": "3.8.5"
    },
    "colab": {
      "provenance": [],
      "include_colab_link": true
    }
  },
  "nbformat": 4,
  "nbformat_minor": 0
}